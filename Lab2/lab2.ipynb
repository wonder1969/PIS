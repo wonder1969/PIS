{
 "cells": [
  {
   "cell_type": "code",
   "execution_count": 3,
   "metadata": {
    "scrolled": true
   },
   "outputs": [
    {
     "name": "stdout",
     "output_type": "stream",
     "text": [
      "Extracting C:/Users/Denis.Petropavlov/virtualenvs/tensorflow/Scripts/data/train-images-idx3-ubyte.gz\n",
      "Extracting C:/Users/Denis.Petropavlov/virtualenvs/tensorflow/Scripts/data/train-labels-idx1-ubyte.gz\n",
      "Extracting C:/Users/Denis.Petropavlov/virtualenvs/tensorflow/Scripts/data/t10k-images-idx3-ubyte.gz\n",
      "Extracting C:/Users/Denis.Petropavlov/virtualenvs/tensorflow/Scripts/data/t10k-labels-idx1-ubyte.gz\n"
     ]
    }
   ],
   "source": [
    "import tensorflow as tf\n",
    "from tensorflow.examples.tutorials.mnist import input_data\n",
    "NUM_STEPS = 1000\n",
    "MINIBATCH_SIZE = 100\n",
    "LEARNING_RATE = 0.5\n",
    "data = input_data.read_data_sets (\"C:/Users/Denis.Petropavlov/virtualenvs/tensorflow/Scripts/data/\" , one_hot = True )"
   ]
  },
  {
   "cell_type": "code",
   "execution_count": 4,
   "metadata": {},
   "outputs": [
    {
     "name": "stdout",
     "output_type": "stream",
     "text": [
      "WARNING:tensorflow:From <ipython-input-4-b895c54f3853>:8: softmax_cross_entropy_with_logits (from tensorflow.python.ops.nn_ops) is deprecated and will be removed in a future version.\n",
      "Instructions for updating:\n",
      "\n",
      "Future major versions of TensorFlow will allow gradients to flow\n",
      "into the labels input on backprop by default.\n",
      "\n",
      "See tf.nn.softmax_cross_entropy_with_logits_v2.\n",
      "\n",
      " Accuracy : 88.85% \n"
     ]
    }
   ],
   "source": [
    "x = tf.placeholder (tf.float32 , [ None , 784])\n",
    "W = tf.Variable (tf.zeros ([784 , 10]))\n",
    "b = tf.Variable (tf.zeros ([10]) , dtype =tf.float32 )\n",
    "y_true = tf.placeholder (tf.float32 , [ None , 10])\n",
    "\n",
    "y_pred = 1/(tf.exp(tf.matmul(x,W) + b)+1)\n",
    "\n",
    "cross_entropy = tf.reduce_mean (tf.nn.softmax_cross_entropy_with_logits (logits = y_pred , labels = y_true ))\n",
    "gd_step = tf.train.GradientDescentOptimizer(LEARNING_RATE).minimize(cross_entropy)\n",
    "correct_mask = tf.equal(tf.argmax(y_pred, 1), tf.argmax(y_true , 1))\n",
    "accuracy = tf.reduce_mean (tf. cast ( correct_mask , tf.float32 ))\n",
    "\n",
    "with tf.Session (config=tf.ConfigProto(log_device_placement=True)) as sess :\n",
    "    # Train\n",
    "    sess.run(tf.global_variables_initializer ())\n",
    "    for i in range ( NUM_STEPS ):\n",
    "        batch_x , batch_y = data.train.next_batch(MINIBATCH_SIZE)\n",
    "        sess.run ( gd_step , feed_dict ={ x : batch_x , y_true : batch_y })\n",
    "        ans = sess.run (accuracy , feed_dict ={ x : data.test.images ,\n",
    "                                               y_true : data.test.labels })\n",
    "\n",
    "print (\" Accuracy : {:.4}% \". format ( ans *100))\n"
   ]
  },
  {
   "cell_type": "code",
   "execution_count": 5,
   "metadata": {},
   "outputs": [],
   "source": [
    "# layers sizes\n",
    "L1 = 200\n",
    "L2 = 100\n",
    "L3 = 60\n",
    "L4 = 30\n",
    "L5 = 10"
   ]
  },
  {
   "cell_type": "code",
   "execution_count": 6,
   "metadata": {
    "scrolled": true
   },
   "outputs": [
    {
     "name": "stdout",
     "output_type": "stream",
     "text": [
      " Accuracy : 94.93% \n"
     ]
    }
   ],
   "source": [
    "x = tf.placeholder (tf.float32 , [ None , 784])\n",
    "\n",
    "l1 = tf.layers.dense (x , L1 , activation =tf.nn.relu , use_bias = True )\n",
    "l2 = tf.layers.dense (l1, L2 , activation =tf.nn.relu , use_bias = True )\n",
    "l3 = tf.layers.dense (l2, L3 , activation =tf.nn.relu , use_bias = True )\n",
    "l4 = tf.layers.dense (l3, L4 , activation =tf.nn.relu , use_bias = True )\n",
    "y_pred = tf.layers.dense (l4, L5 , activation =tf.nn.relu , use_bias = True )\n",
    "\n",
    "y_true = tf.placeholder (tf.float32 , [ None , 10])\n",
    "cross_entropy = tf.reduce_mean (tf.nn.softmax_cross_entropy_with_logits (logits = y_pred , labels = y_true ))\n",
    "gd_step = tf.train.GradientDescentOptimizer(LEARNING_RATE).minimize(cross_entropy)\n",
    "correct_mask = tf.equal(tf.argmax(y_pred,1), tf.argmax(y_true,1))\n",
    "accuracy = tf.reduce_mean (tf.cast(correct_mask, tf.float32))\n",
    "with tf.Session (config=tf.ConfigProto(log_device_placement=True)) as sess :\n",
    "    # Train\n",
    "    sess.run (tf.global_variables_initializer ())\n",
    "    for i in range ( NUM_STEPS ):\n",
    "        batch_x , batch_y = data.train.next_batch ( MINIBATCH_SIZE )\n",
    "        sess.run ( gd_step , feed_dict ={ x : batch_x , y_true : batch_y })\n",
    "        ans = sess.run ( accuracy , feed_dict ={ x : data.test.images ,\n",
    "                                                  y_true : data.test.labels })\n",
    "\n",
    "print (\" Accuracy : {:.4}% \". format ( ans *100))"
   ]
  }
 ],
 "metadata": {
  "kernelspec": {
   "display_name": "Python 3",
   "language": "python",
   "name": "python3"
  },
  "language_info": {
   "codemirror_mode": {
    "name": "ipython",
    "version": 3
   },
   "file_extension": ".py",
   "mimetype": "text/x-python",
   "name": "python",
   "nbconvert_exporter": "python",
   "pygments_lexer": "ipython3",
   "version": "3.6.3"
  }
 },
 "nbformat": 4,
 "nbformat_minor": 4
}
